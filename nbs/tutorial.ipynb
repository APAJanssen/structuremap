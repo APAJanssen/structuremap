{
 "cells": [
  {
   "cell_type": "markdown",
   "metadata": {},
   "source": [
    "# Tutorial: StructureMap"
   ]
  },
  {
   "cell_type": "markdown",
   "metadata": {},
   "source": [
    "## Import libraries"
   ]
  },
  {
   "cell_type": "code",
   "execution_count": 1,
   "metadata": {},
   "outputs": [],
   "source": [
    "# Import structuremap functions\n",
    "import structuremap.utils\n",
    "structuremap.utils.set_logger()\n",
    "from structuremap.processing import download_alphafold_cif, download_alphafold_pae, format_alphafold_data, annotate_accessibility, get_smooth_score, annotate_proteins_with_idr_pattern, get_extended_flexible_pattern, get_proximity_pvals, perform_enrichment_analysis, perform_enrichment_analysis_per_protein, evaluate_ptm_colocalization, extract_motifs_in_proteome\n",
    "from structuremap.plotting import plot_enrichment, plot_ptm_colocalization\n"
   ]
  },
  {
   "cell_type": "code",
   "execution_count": 2,
   "metadata": {},
   "outputs": [],
   "source": [
    "# Import \n",
    "import pandas as pd\n",
    "import numpy as np\n",
    "import os\n",
    "import re\n",
    "import plotly.express as px\n",
    "import tqdm\n",
    "import tempfile"
   ]
  },
  {
   "cell_type": "code",
   "execution_count": 3,
   "metadata": {},
   "outputs": [],
   "source": [
    "# Set output directory to tempdir\n",
    "output_dir = tempfile.gettempdir()"
   ]
  },
  {
   "cell_type": "markdown",
   "metadata": {},
   "source": [
    "## Select proteins to use for this tutorial"
   ]
  },
  {
   "cell_type": "code",
   "execution_count": 4,
   "metadata": {},
   "outputs": [],
   "source": [
    "test_proteins = ['O43353','P24941','Q92918','P45984','P28482','O96017',\n",
    "                 'P02730','Q8NB16','Q13546','P29320','P08559','P15121']"
   ]
  },
  {
   "cell_type": "markdown",
   "metadata": {},
   "source": [
    "## Download AlphaFold data"
   ]
  },
  {
   "cell_type": "code",
   "execution_count": 5,
   "metadata": {},
   "outputs": [],
   "source": [
    "cif_dir = os.path.join(output_dir, 'tutorial_cif')\n",
    "pae_dir = os.path.join(output_dir, 'tutorial_pae')"
   ]
  },
  {
   "cell_type": "code",
   "execution_count": 6,
   "metadata": {},
   "outputs": [
    {
     "name": "stderr",
     "output_type": "stream",
     "text": [
      "100%|██████████████████████████████████████████████████████████████████████████████████| 12/12 [00:00<00:00, 7701.86it/s]"
     ]
    },
    {
     "name": "stdout",
     "output_type": "stream",
     "text": [
      "2022-02-09 14:07:00> Valid proteins: 0\n",
      "2022-02-09 14:07:00> Invalid proteins: 0\n",
      "2022-02-09 14:07:00> Existing proteins: 12\n"
     ]
    },
    {
     "name": "stderr",
     "output_type": "stream",
     "text": [
      "\n"
     ]
    }
   ],
   "source": [
    "valid_proteins_cif, invalid_proteins_cif, existing_proteins_cif = download_alphafold_cif(\n",
    "    proteins=test_proteins,\n",
    "    out_folder=cif_dir)"
   ]
  },
  {
   "cell_type": "code",
   "execution_count": 7,
   "metadata": {},
   "outputs": [
    {
     "name": "stderr",
     "output_type": "stream",
     "text": [
      "100%|██████████████████████████████████████████████████████████████████████████████████| 12/12 [00:00<00:00, 7414.80it/s]"
     ]
    },
    {
     "name": "stdout",
     "output_type": "stream",
     "text": [
      "2022-02-09 14:07:00> Valid proteins: 0\n",
      "2022-02-09 14:07:00> Invalid proteins: 0\n",
      "2022-02-09 14:07:00> Existing proteins: 12\n"
     ]
    },
    {
     "name": "stderr",
     "output_type": "stream",
     "text": [
      "\n"
     ]
    }
   ],
   "source": [
    "valid_proteins_pae, invalid_proteins_pae, existing_proteins_pae = download_alphafold_pae(\n",
    "    proteins=test_proteins,\n",
    "    out_folder=pae_dir, \n",
    "    )"
   ]
  },
  {
   "cell_type": "markdown",
   "metadata": {},
   "source": [
    "## Format AlphaFold data input"
   ]
  },
  {
   "cell_type": "code",
   "execution_count": 8,
   "metadata": {},
   "outputs": [
    {
     "name": "stderr",
     "output_type": "stream",
     "text": [
      "100%|████████████████████████████████████████████████████████████████████████████████████| 12/12 [00:02<00:00,  4.54it/s]\n"
     ]
    }
   ],
   "source": [
    "alphafold_annotation = format_alphafold_data(\n",
    "    directory=cif_dir, \n",
    "    protein_ids=test_proteins)"
   ]
  },
  {
   "cell_type": "code",
   "execution_count": 9,
   "metadata": {},
   "outputs": [
    {
     "data": {
      "text/html": [
       "<div>\n",
       "<style scoped>\n",
       "    .dataframe tbody tr th:only-of-type {\n",
       "        vertical-align: middle;\n",
       "    }\n",
       "\n",
       "    .dataframe tbody tr th {\n",
       "        vertical-align: top;\n",
       "    }\n",
       "\n",
       "    .dataframe thead th {\n",
       "        text-align: right;\n",
       "    }\n",
       "</style>\n",
       "<table border=\"1\" class=\"dataframe\">\n",
       "  <thead>\n",
       "    <tr style=\"text-align: right;\">\n",
       "      <th></th>\n",
       "      <th>protein_id</th>\n",
       "      <th>protein_number</th>\n",
       "      <th>AA</th>\n",
       "      <th>position</th>\n",
       "      <th>quality</th>\n",
       "      <th>x_coord_c</th>\n",
       "      <th>x_coord_ca</th>\n",
       "      <th>x_coord_cb</th>\n",
       "      <th>x_coord_n</th>\n",
       "      <th>y_coord_c</th>\n",
       "      <th>...</th>\n",
       "      <th>z_coord_ca</th>\n",
       "      <th>z_coord_cb</th>\n",
       "      <th>z_coord_n</th>\n",
       "      <th>secondary_structure</th>\n",
       "      <th>structure_group</th>\n",
       "      <th>BEND</th>\n",
       "      <th>HELX</th>\n",
       "      <th>STRN</th>\n",
       "      <th>TURN</th>\n",
       "      <th>unstructured</th>\n",
       "    </tr>\n",
       "  </thead>\n",
       "  <tbody>\n",
       "    <tr>\n",
       "      <th>0</th>\n",
       "      <td>O43353</td>\n",
       "      <td>1</td>\n",
       "      <td>M</td>\n",
       "      <td>1</td>\n",
       "      <td>36.95</td>\n",
       "      <td>-20.649</td>\n",
       "      <td>-22.109</td>\n",
       "      <td>-22.991</td>\n",
       "      <td>-22.332</td>\n",
       "      <td>-11.261</td>\n",
       "      <td>...</td>\n",
       "      <td>-31.320</td>\n",
       "      <td>-30.655</td>\n",
       "      <td>-30.726</td>\n",
       "      <td>unstructured</td>\n",
       "      <td>unstructured</td>\n",
       "      <td>0</td>\n",
       "      <td>0</td>\n",
       "      <td>0</td>\n",
       "      <td>0</td>\n",
       "      <td>1</td>\n",
       "    </tr>\n",
       "    <tr>\n",
       "      <th>1</th>\n",
       "      <td>O43353</td>\n",
       "      <td>1</td>\n",
       "      <td>N</td>\n",
       "      <td>2</td>\n",
       "      <td>39.38</td>\n",
       "      <td>-18.674</td>\n",
       "      <td>-18.530</td>\n",
       "      <td>-17.736</td>\n",
       "      <td>-19.886</td>\n",
       "      <td>-8.995</td>\n",
       "      <td>...</td>\n",
       "      <td>-32.003</td>\n",
       "      <td>-33.314</td>\n",
       "      <td>-32.160</td>\n",
       "      <td>unstructured</td>\n",
       "      <td>unstructured</td>\n",
       "      <td>0</td>\n",
       "      <td>0</td>\n",
       "      <td>0</td>\n",
       "      <td>0</td>\n",
       "      <td>1</td>\n",
       "    </tr>\n",
       "    <tr>\n",
       "      <th>2</th>\n",
       "      <td>O43353</td>\n",
       "      <td>1</td>\n",
       "      <td>G</td>\n",
       "      <td>3</td>\n",
       "      <td>46.56</td>\n",
       "      <td>-17.165</td>\n",
       "      <td>-18.521</td>\n",
       "      <td>NaN</td>\n",
       "      <td>-18.591</td>\n",
       "      <td>-6.766</td>\n",
       "      <td>...</td>\n",
       "      <td>-29.807</td>\n",
       "      <td>NaN</td>\n",
       "      <td>-30.291</td>\n",
       "      <td>unstructured</td>\n",
       "      <td>unstructured</td>\n",
       "      <td>0</td>\n",
       "      <td>0</td>\n",
       "      <td>0</td>\n",
       "      <td>0</td>\n",
       "      <td>1</td>\n",
       "    </tr>\n",
       "  </tbody>\n",
       "</table>\n",
       "<p>3 rows × 24 columns</p>\n",
       "</div>"
      ],
      "text/plain": [
       "  protein_id  protein_number AA  position  quality  x_coord_c  x_coord_ca  \\\n",
       "0     O43353               1  M         1    36.95    -20.649     -22.109   \n",
       "1     O43353               1  N         2    39.38    -18.674     -18.530   \n",
       "2     O43353               1  G         3    46.56    -17.165     -18.521   \n",
       "\n",
       "   x_coord_cb  x_coord_n  y_coord_c  ...  z_coord_ca  z_coord_cb  z_coord_n  \\\n",
       "0     -22.991    -22.332    -11.261  ...     -31.320     -30.655    -30.726   \n",
       "1     -17.736    -19.886     -8.995  ...     -32.003     -33.314    -32.160   \n",
       "2         NaN    -18.591     -6.766  ...     -29.807         NaN    -30.291   \n",
       "\n",
       "   secondary_structure  structure_group  BEND  HELX STRN TURN  unstructured  \n",
       "0         unstructured     unstructured     0     0    0    0             1  \n",
       "1         unstructured     unstructured     0     0    0    0             1  \n",
       "2         unstructured     unstructured     0     0    0    0             1  \n",
       "\n",
       "[3 rows x 24 columns]"
      ]
     },
     "execution_count": 9,
     "metadata": {},
     "output_type": "execute_result"
    }
   ],
   "source": [
    "alphafold_annotation[0:3]"
   ]
  },
  {
   "cell_type": "markdown",
   "metadata": {},
   "source": [
    "## Annotate pPSE values"
   ]
  },
  {
   "cell_type": "code",
   "execution_count": 10,
   "metadata": {},
   "outputs": [
    {
     "name": "stderr",
     "output_type": "stream",
     "text": [
      "100%|████████████████████████████████████████████████████████████████████████████████████| 12/12 [00:03<00:00,  3.83it/s]\n"
     ]
    }
   ],
   "source": [
    "full_sphere_exposure = annotate_accessibility(\n",
    "    df=alphafold_annotation, \n",
    "    max_dist=24, \n",
    "    max_angle=180, \n",
    "    error_dir=pae_dir)"
   ]
  },
  {
   "cell_type": "code",
   "execution_count": 11,
   "metadata": {},
   "outputs": [],
   "source": [
    "alphafold_accessibility = alphafold_annotation.merge(\n",
    "    full_sphere_exposure, how='left', on=['protein_id','AA','position'])"
   ]
  },
  {
   "cell_type": "code",
   "execution_count": 12,
   "metadata": {},
   "outputs": [
    {
     "name": "stderr",
     "output_type": "stream",
     "text": [
      "100%|████████████████████████████████████████████████████████████████████████████████████| 12/12 [00:00<00:00, 65.67it/s]\n"
     ]
    }
   ],
   "source": [
    "part_sphere_exposure = annotate_accessibility(\n",
    "    df=alphafold_annotation, \n",
    "    max_dist=12, \n",
    "    max_angle=70, \n",
    "    error_dir=pae_dir)"
   ]
  },
  {
   "cell_type": "code",
   "execution_count": 13,
   "metadata": {},
   "outputs": [],
   "source": [
    "alphafold_accessibility = alphafold_accessibility.merge(\n",
    "    part_sphere_exposure, how='left', on=['protein_id','AA','position'])"
   ]
  },
  {
   "cell_type": "code",
   "execution_count": 14,
   "metadata": {},
   "outputs": [],
   "source": [
    "alphafold_accessibility['high_acc_5'] = np.where(alphafold_accessibility.nAA_12_70_pae <= 5, 1, 0)\n",
    "alphafold_accessibility['low_acc_5'] = np.where(alphafold_accessibility.nAA_12_70_pae > 5, 1, 0)"
   ]
  },
  {
   "cell_type": "markdown",
   "metadata": {},
   "source": [
    "## Annotate IDRs"
   ]
  },
  {
   "cell_type": "code",
   "execution_count": 15,
   "metadata": {},
   "outputs": [
    {
     "name": "stderr",
     "output_type": "stream",
     "text": [
      "100%|████████████████████████████████████████████████████████████████████████████████████| 12/12 [00:00<00:00, 36.08it/s]\n"
     ]
    }
   ],
   "source": [
    "alphafold_accessibility_smooth = get_smooth_score(\n",
    "    alphafold_accessibility, \n",
    "    np.array(['nAA_24_180_pae']), \n",
    "    [10])"
   ]
  },
  {
   "cell_type": "code",
   "execution_count": 16,
   "metadata": {},
   "outputs": [],
   "source": [
    "alphafold_accessibility_smooth['IDR'] = np.where(\n",
    "    alphafold_accessibility_smooth['nAA_24_180_pae_smooth10']<=34.27, 1, 0)"
   ]
  },
  {
   "cell_type": "markdown",
   "metadata": {},
   "source": [
    "## Annottate short IDRs"
   ]
  },
  {
   "cell_type": "code",
   "execution_count": 17,
   "metadata": {},
   "outputs": [
    {
     "name": "stderr",
     "output_type": "stream",
     "text": [
      "100%|███████████████████████████████████████████████████████████████████████████████████| 12/12 [00:00<00:00, 507.14it/s]\n"
     ]
    }
   ],
   "source": [
    "alphafold_accessibility_smooth_pattern = annotate_proteins_with_idr_pattern(\n",
    "    alphafold_accessibility_smooth,\n",
    "    min_structured_length = 80, \n",
    "    max_unstructured_length = 20)"
   ]
  },
  {
   "cell_type": "code",
   "execution_count": 18,
   "metadata": {},
   "outputs": [
    {
     "name": "stderr",
     "output_type": "stream",
     "text": [
      "100%|████████████████████████████████████████████████████████████████████████████████████| 12/12 [00:00<00:00, 26.94it/s]\n"
     ]
    }
   ],
   "source": [
    "alphafold_accessibility_smooth_pattern_ext = get_extended_flexible_pattern(\n",
    "    alphafold_accessibility_smooth_pattern, \n",
    "    ['flexible_pattern'], [5])"
   ]
  },
  {
   "cell_type": "code",
   "execution_count": 19,
   "metadata": {},
   "outputs": [
    {
     "data": {
      "text/html": [
       "<div>\n",
       "<style scoped>\n",
       "    .dataframe tbody tr th:only-of-type {\n",
       "        vertical-align: middle;\n",
       "    }\n",
       "\n",
       "    .dataframe tbody tr th {\n",
       "        vertical-align: top;\n",
       "    }\n",
       "\n",
       "    .dataframe thead th {\n",
       "        text-align: right;\n",
       "    }\n",
       "</style>\n",
       "<table border=\"1\" class=\"dataframe\">\n",
       "  <thead>\n",
       "    <tr style=\"text-align: right;\">\n",
       "      <th></th>\n",
       "      <th>protein_id</th>\n",
       "      <th>protein_number</th>\n",
       "      <th>AA</th>\n",
       "      <th>position</th>\n",
       "      <th>quality</th>\n",
       "      <th>x_coord_c</th>\n",
       "      <th>x_coord_ca</th>\n",
       "      <th>x_coord_cb</th>\n",
       "      <th>x_coord_n</th>\n",
       "      <th>y_coord_c</th>\n",
       "      <th>...</th>\n",
       "      <th>TURN</th>\n",
       "      <th>unstructured</th>\n",
       "      <th>nAA_24_180_pae</th>\n",
       "      <th>nAA_12_70_pae</th>\n",
       "      <th>high_acc_5</th>\n",
       "      <th>low_acc_5</th>\n",
       "      <th>nAA_24_180_pae_smooth10</th>\n",
       "      <th>IDR</th>\n",
       "      <th>flexible_pattern</th>\n",
       "      <th>flexible_pattern_extended_5</th>\n",
       "    </tr>\n",
       "  </thead>\n",
       "  <tbody>\n",
       "    <tr>\n",
       "      <th>0</th>\n",
       "      <td>O43353</td>\n",
       "      <td>1</td>\n",
       "      <td>M</td>\n",
       "      <td>1</td>\n",
       "      <td>36.95</td>\n",
       "      <td>-20.649</td>\n",
       "      <td>-22.109</td>\n",
       "      <td>-22.991</td>\n",
       "      <td>-22.332</td>\n",
       "      <td>-11.261</td>\n",
       "      <td>...</td>\n",
       "      <td>0</td>\n",
       "      <td>1</td>\n",
       "      <td>4</td>\n",
       "      <td>0</td>\n",
       "      <td>1</td>\n",
       "      <td>0</td>\n",
       "      <td>29.909091</td>\n",
       "      <td>1</td>\n",
       "      <td>0</td>\n",
       "      <td>0</td>\n",
       "    </tr>\n",
       "    <tr>\n",
       "      <th>1</th>\n",
       "      <td>O43353</td>\n",
       "      <td>1</td>\n",
       "      <td>N</td>\n",
       "      <td>2</td>\n",
       "      <td>39.38</td>\n",
       "      <td>-18.674</td>\n",
       "      <td>-18.530</td>\n",
       "      <td>-17.736</td>\n",
       "      <td>-19.886</td>\n",
       "      <td>-8.995</td>\n",
       "      <td>...</td>\n",
       "      <td>0</td>\n",
       "      <td>1</td>\n",
       "      <td>5</td>\n",
       "      <td>0</td>\n",
       "      <td>1</td>\n",
       "      <td>0</td>\n",
       "      <td>34.500000</td>\n",
       "      <td>0</td>\n",
       "      <td>0</td>\n",
       "      <td>0</td>\n",
       "    </tr>\n",
       "    <tr>\n",
       "      <th>2</th>\n",
       "      <td>O43353</td>\n",
       "      <td>1</td>\n",
       "      <td>G</td>\n",
       "      <td>3</td>\n",
       "      <td>46.56</td>\n",
       "      <td>-17.165</td>\n",
       "      <td>-18.521</td>\n",
       "      <td>NaN</td>\n",
       "      <td>-18.591</td>\n",
       "      <td>-6.766</td>\n",
       "      <td>...</td>\n",
       "      <td>0</td>\n",
       "      <td>1</td>\n",
       "      <td>6</td>\n",
       "      <td>0</td>\n",
       "      <td>1</td>\n",
       "      <td>0</td>\n",
       "      <td>38.461538</td>\n",
       "      <td>0</td>\n",
       "      <td>0</td>\n",
       "      <td>0</td>\n",
       "    </tr>\n",
       "  </tbody>\n",
       "</table>\n",
       "<p>3 rows × 32 columns</p>\n",
       "</div>"
      ],
      "text/plain": [
       "  protein_id  protein_number AA  position  quality  x_coord_c  x_coord_ca  \\\n",
       "0     O43353               1  M         1    36.95    -20.649     -22.109   \n",
       "1     O43353               1  N         2    39.38    -18.674     -18.530   \n",
       "2     O43353               1  G         3    46.56    -17.165     -18.521   \n",
       "\n",
       "   x_coord_cb  x_coord_n  y_coord_c  ...  TURN  unstructured  nAA_24_180_pae  \\\n",
       "0     -22.991    -22.332    -11.261  ...     0             1               4   \n",
       "1     -17.736    -19.886     -8.995  ...     0             1               5   \n",
       "2         NaN    -18.591     -6.766  ...     0             1               6   \n",
       "\n",
       "   nAA_12_70_pae  high_acc_5  low_acc_5  nAA_24_180_pae_smooth10 IDR  \\\n",
       "0              0           1          0                29.909091   1   \n",
       "1              0           1          0                34.500000   0   \n",
       "2              0           1          0                38.461538   0   \n",
       "\n",
       "  flexible_pattern  flexible_pattern_extended_5  \n",
       "0                0                            0  \n",
       "1                0                            0  \n",
       "2                0                            0  \n",
       "\n",
       "[3 rows x 32 columns]"
      ]
     },
     "execution_count": 19,
     "metadata": {},
     "output_type": "execute_result"
    }
   ],
   "source": [
    "alphafold_accessibility_smooth_pattern_ext[0:3]"
   ]
  },
  {
   "cell_type": "code",
   "execution_count": 20,
   "metadata": {},
   "outputs": [
    {
     "data": {
      "text/plain": [
       "Index(['protein_id', 'protein_number', 'AA', 'position', 'quality',\n",
       "       'x_coord_c', 'x_coord_ca', 'x_coord_cb', 'x_coord_n', 'y_coord_c',\n",
       "       'y_coord_ca', 'y_coord_cb', 'y_coord_n', 'z_coord_c', 'z_coord_ca',\n",
       "       'z_coord_cb', 'z_coord_n', 'secondary_structure', 'structure_group',\n",
       "       'BEND', 'HELX', 'STRN', 'TURN', 'unstructured', 'nAA_24_180_pae',\n",
       "       'nAA_12_70_pae', 'high_acc_5', 'low_acc_5', 'nAA_24_180_pae_smooth10',\n",
       "       'IDR', 'flexible_pattern', 'flexible_pattern_extended_5'],\n",
       "      dtype='object')"
      ]
     },
     "execution_count": 20,
     "metadata": {},
     "output_type": "execute_result"
    }
   ],
   "source": [
    "alphafold_accessibility_smooth_pattern_ext.columns\n"
   ]
  },
  {
   "cell_type": "markdown",
   "metadata": {},
   "source": [
    "## Annotate PTM data"
   ]
  },
  {
   "cell_type": "code",
   "execution_count": 21,
   "metadata": {},
   "outputs": [],
   "source": [
    "ptm_file_location = os.path.join(\"..\",\"data\",\"test_files\",\"ptm_file.csv\")\n",
    "ptm_file = pd.read_csv(ptm_file_location)"
   ]
  },
  {
   "cell_type": "code",
   "execution_count": 22,
   "metadata": {},
   "outputs": [
    {
     "data": {
      "text/html": [
       "<div>\n",
       "<style scoped>\n",
       "    .dataframe tbody tr th:only-of-type {\n",
       "        vertical-align: middle;\n",
       "    }\n",
       "\n",
       "    .dataframe tbody tr th {\n",
       "        vertical-align: top;\n",
       "    }\n",
       "\n",
       "    .dataframe thead th {\n",
       "        text-align: right;\n",
       "    }\n",
       "</style>\n",
       "<table border=\"1\" class=\"dataframe\">\n",
       "  <thead>\n",
       "    <tr style=\"text-align: right;\">\n",
       "      <th></th>\n",
       "      <th>Unnamed: 0</th>\n",
       "      <th>protein_id</th>\n",
       "      <th>AA</th>\n",
       "      <th>position</th>\n",
       "      <th>ac</th>\n",
       "      <th>ac_reg</th>\n",
       "      <th>ga</th>\n",
       "      <th>gl</th>\n",
       "      <th>gl_reg</th>\n",
       "      <th>m</th>\n",
       "      <th>m_reg</th>\n",
       "      <th>p</th>\n",
       "      <th>p_reg</th>\n",
       "      <th>sm</th>\n",
       "      <th>sm_reg</th>\n",
       "      <th>ub</th>\n",
       "      <th>ub_reg</th>\n",
       "    </tr>\n",
       "  </thead>\n",
       "  <tbody>\n",
       "    <tr>\n",
       "      <th>0</th>\n",
       "      <td>0</td>\n",
       "      <td>O43353</td>\n",
       "      <td>K</td>\n",
       "      <td>17</td>\n",
       "      <td>0</td>\n",
       "      <td>0</td>\n",
       "      <td>0</td>\n",
       "      <td>0</td>\n",
       "      <td>0</td>\n",
       "      <td>0</td>\n",
       "      <td>0</td>\n",
       "      <td>0</td>\n",
       "      <td>0</td>\n",
       "      <td>0</td>\n",
       "      <td>0</td>\n",
       "      <td>1</td>\n",
       "      <td>0</td>\n",
       "    </tr>\n",
       "    <tr>\n",
       "      <th>1</th>\n",
       "      <td>1</td>\n",
       "      <td>O43353</td>\n",
       "      <td>K</td>\n",
       "      <td>182</td>\n",
       "      <td>0</td>\n",
       "      <td>0</td>\n",
       "      <td>0</td>\n",
       "      <td>0</td>\n",
       "      <td>0</td>\n",
       "      <td>0</td>\n",
       "      <td>0</td>\n",
       "      <td>0</td>\n",
       "      <td>0</td>\n",
       "      <td>0</td>\n",
       "      <td>0</td>\n",
       "      <td>1</td>\n",
       "      <td>0</td>\n",
       "    </tr>\n",
       "    <tr>\n",
       "      <th>2</th>\n",
       "      <td>2</td>\n",
       "      <td>O43353</td>\n",
       "      <td>K</td>\n",
       "      <td>203</td>\n",
       "      <td>0</td>\n",
       "      <td>0</td>\n",
       "      <td>0</td>\n",
       "      <td>0</td>\n",
       "      <td>0</td>\n",
       "      <td>0</td>\n",
       "      <td>0</td>\n",
       "      <td>0</td>\n",
       "      <td>0</td>\n",
       "      <td>0</td>\n",
       "      <td>0</td>\n",
       "      <td>1</td>\n",
       "      <td>0</td>\n",
       "    </tr>\n",
       "  </tbody>\n",
       "</table>\n",
       "</div>"
      ],
      "text/plain": [
       "   Unnamed: 0 protein_id AA  position  ac  ac_reg  ga  gl  gl_reg  m  m_reg  \\\n",
       "0           0     O43353  K        17   0       0   0   0       0  0      0   \n",
       "1           1     O43353  K       182   0       0   0   0       0  0      0   \n",
       "2           2     O43353  K       203   0       0   0   0       0  0      0   \n",
       "\n",
       "   p  p_reg  sm  sm_reg  ub  ub_reg  \n",
       "0  0      0   0       0   1       0  \n",
       "1  0      0   0       0   1       0  \n",
       "2  0      0   0       0   1       0  "
      ]
     },
     "execution_count": 22,
     "metadata": {},
     "output_type": "execute_result"
    }
   ],
   "source": [
    "ptm_file[0:3]"
   ]
  },
  {
   "cell_type": "code",
   "execution_count": 23,
   "metadata": {},
   "outputs": [],
   "source": [
    "alphafold_ptms = alphafold_accessibility_smooth_pattern_ext.merge(ptm_file, how='left', on=['protein_id','AA','position'])\n",
    "alphafold_ptms = alphafold_ptms.fillna(0)"
   ]
  },
  {
   "cell_type": "code",
   "execution_count": 24,
   "metadata": {},
   "outputs": [],
   "source": [
    "ptm_site_dict = {'p':['S','T','Y'],\n",
    "                 'p_reg':['S','T','Y']}"
   ]
  },
  {
   "cell_type": "markdown",
   "metadata": {},
   "source": [
    "## Perform PTM enrichment analysis"
   ]
  },
  {
   "cell_type": "code",
   "execution_count": 25,
   "metadata": {},
   "outputs": [],
   "source": [
    "enrichment_p = perform_enrichment_analysis(\n",
    "    df=alphafold_ptms, \n",
    "    ptm_types=['p', 'p_reg'], \n",
    "    rois=['IDR'], \n",
    "    ptm_site_dict = ptm_site_dict,\n",
    "    quality_cutoffs=[0])"
   ]
  },
  {
   "cell_type": "code",
   "execution_count": 26,
   "metadata": {},
   "outputs": [
    {
     "data": {
      "text/html": [
       "<div>\n",
       "<style scoped>\n",
       "    .dataframe tbody tr th:only-of-type {\n",
       "        vertical-align: middle;\n",
       "    }\n",
       "\n",
       "    .dataframe tbody tr th {\n",
       "        vertical-align: top;\n",
       "    }\n",
       "\n",
       "    .dataframe thead th {\n",
       "        text-align: right;\n",
       "    }\n",
       "</style>\n",
       "<table border=\"1\" class=\"dataframe\">\n",
       "  <thead>\n",
       "    <tr style=\"text-align: right;\">\n",
       "      <th></th>\n",
       "      <th>quality_cutoff</th>\n",
       "      <th>ptm</th>\n",
       "      <th>roi</th>\n",
       "      <th>n_aa_ptm</th>\n",
       "      <th>n_aa_roi</th>\n",
       "      <th>n_ptm_in_roi</th>\n",
       "      <th>n_ptm_not_in_roi</th>\n",
       "      <th>n_naked_in_roi</th>\n",
       "      <th>n_naked_not_in_roi</th>\n",
       "      <th>oddsr</th>\n",
       "      <th>p</th>\n",
       "      <th>p_adj_bf</th>\n",
       "      <th>p_adj_bh</th>\n",
       "    </tr>\n",
       "  </thead>\n",
       "  <tbody>\n",
       "    <tr>\n",
       "      <th>0</th>\n",
       "      <td>0</td>\n",
       "      <td>p</td>\n",
       "      <td>IDR</td>\n",
       "      <td>281</td>\n",
       "      <td>259</td>\n",
       "      <td>116</td>\n",
       "      <td>165</td>\n",
       "      <td>143</td>\n",
       "      <td>639</td>\n",
       "      <td>3.141513</td>\n",
       "      <td>1.209934e-13</td>\n",
       "      <td>2.419868e-13</td>\n",
       "      <td>2.419868e-13</td>\n",
       "    </tr>\n",
       "    <tr>\n",
       "      <th>0</th>\n",
       "      <td>0</td>\n",
       "      <td>p_reg</td>\n",
       "      <td>IDR</td>\n",
       "      <td>60</td>\n",
       "      <td>259</td>\n",
       "      <td>21</td>\n",
       "      <td>39</td>\n",
       "      <td>238</td>\n",
       "      <td>765</td>\n",
       "      <td>1.730769</td>\n",
       "      <td>6.193364e-02</td>\n",
       "      <td>1.238673e-01</td>\n",
       "      <td>6.193364e-02</td>\n",
       "    </tr>\n",
       "  </tbody>\n",
       "</table>\n",
       "</div>"
      ],
      "text/plain": [
       "   quality_cutoff    ptm  roi  n_aa_ptm  n_aa_roi  n_ptm_in_roi  \\\n",
       "0               0      p  IDR       281       259           116   \n",
       "0               0  p_reg  IDR        60       259            21   \n",
       "\n",
       "   n_ptm_not_in_roi  n_naked_in_roi  n_naked_not_in_roi     oddsr  \\\n",
       "0               165             143                 639  3.141513   \n",
       "0                39             238                 765  1.730769   \n",
       "\n",
       "              p      p_adj_bf      p_adj_bh  \n",
       "0  1.209934e-13  2.419868e-13  2.419868e-13  \n",
       "0  6.193364e-02  1.238673e-01  6.193364e-02  "
      ]
     },
     "execution_count": 26,
     "metadata": {},
     "output_type": "execute_result"
    }
   ],
   "source": [
    "enrichment_p"
   ]
  },
  {
   "cell_type": "markdown",
   "metadata": {},
   "source": [
    "## Plot enrichment results"
   ]
  },
  {
   "cell_type": "code",
   "execution_count": null,
   "metadata": {},
   "outputs": [],
   "source": [
    "plot_enrichment(data=enrichment_p,\n",
    "                ptm_select=['p',\n",
    "                            'p_reg'],\n",
    "                roi_select=['IDR']\n",
    "                )"
   ]
  },
  {
   "cell_type": "markdown",
   "metadata": {},
   "source": [
    "## Perform PTM enrichment analysis per protein"
   ]
  },
  {
   "cell_type": "code",
   "execution_count": null,
   "metadata": {},
   "outputs": [],
   "source": [
    "enrichment_p_per_protein = perform_enrichment_analysis_per_protein( \n",
    "    df=alphafold_ptms, \n",
    "    ptm_types=['p', 'p_reg'], \n",
    "    rois=['IDR'], \n",
    "    ptm_site_dict = ptm_site_dict,\n",
    "    quality_cutoffs=[0])"
   ]
  },
  {
   "cell_type": "code",
   "execution_count": null,
   "metadata": {},
   "outputs": [],
   "source": [
    "enrichment_p_per_protein"
   ]
  },
  {
   "cell_type": "markdown",
   "metadata": {},
   "source": [
    "## Extract kinase motifs"
   ]
  },
  {
   "cell_type": "code",
   "execution_count": null,
   "metadata": {},
   "outputs": [],
   "source": [
    "kinase_motifs_location = os.path.join(\"..\",\"data\",\"test_files\",\"kinase_motifs.csv\")\n",
    "kinase_motifs = pd.read_csv(kinase_motifs_location, sep='\\t')\n",
    "kinase_motifs[0:3]"
   ]
  },
  {
   "cell_type": "code",
   "execution_count": null,
   "metadata": {},
   "outputs": [],
   "source": [
    "kinase_motif_res = extract_motifs_in_proteome(\n",
    "    alphafold_df=alphafold_ptms, \n",
    "    motif_df=kinase_motifs)\n",
    "kinase_motif_res[0:3]"
   ]
  },
  {
   "cell_type": "code",
   "execution_count": null,
   "metadata": {},
   "outputs": [],
   "source": [
    "# Format observed kinase motifs for merging with alphafold_ptms\n",
    "kinase_motif_res['kinase_motif'] = 1\n",
    "kinase_motif_res_sub = kinase_motif_res[['protein_id','position','AA','kinase_motif']].drop_duplicates()\n",
    "alphafold_motifs = alphafold_ptms.merge(kinase_motif_res_sub, how='left', on=['protein_id','position','AA'])\n",
    "alphafold_motifs = alphafold_motifs.fillna(0)\n",
    "# alphafold_motifs[0:3]"
   ]
  },
  {
   "cell_type": "code",
   "execution_count": null,
   "metadata": {},
   "outputs": [],
   "source": [
    "# test if phosphosites are enriched in kinase motifs\n",
    "enrichment_p_inMotif = perform_enrichment_analysis(\n",
    "    df=alphafold_motifs, \n",
    "    ptm_types=['p', 'p_reg'], \n",
    "    rois=['kinase_motif'], \n",
    "    ptm_site_dict=ptm_site_dict,\n",
    "    quality_cutoffs=[0])\n",
    "\n",
    "# inspect\n",
    "enrichment_p_inMotif"
   ]
  },
  {
   "cell_type": "code",
   "execution_count": null,
   "metadata": {},
   "outputs": [],
   "source": [
    "plot_enrichment(data=enrichment_p_inMotif,\n",
    "                ptm_select=['p',\n",
    "                            'p_reg'],\n",
    "                roi_select=['kinase_motif']\n",
    "                )"
   ]
  },
  {
   "cell_type": "markdown",
   "metadata": {},
   "source": [
    "## Evaluate PTM colocalization"
   ]
  },
  {
   "cell_type": "code",
   "execution_count": null,
   "metadata": {},
   "outputs": [],
   "source": [
    "p_colocalization = evaluate_ptm_colocalization(\n",
    "    df=alphafold_ptms, \n",
    "    ptm_target='self',\n",
    "    ptm_types=['p','p_reg'], \n",
    "    ptm_dict=ptm_site_dict,\n",
    "    pae_dir=pae_dir,\n",
    "    min_dist = 0.99,\n",
    "    max_dist = 35,\n",
    "    dist_step = 5)"
   ]
  },
  {
   "cell_type": "code",
   "execution_count": null,
   "metadata": {},
   "outputs": [],
   "source": [
    "plot_ptm_colocalization(p_colocalization, context=\"3D\")"
   ]
  },
  {
   "cell_type": "markdown",
   "metadata": {},
   "source": [
    "## Get 3D clusters"
   ]
  },
  {
   "cell_type": "code",
   "execution_count": null,
   "metadata": {},
   "outputs": [],
   "source": [
    "proximity_res_p = get_proximity_pvals(\n",
    "    df=alphafold_ptms, \n",
    "    ptm_types = ['p'], \n",
    "    ptm_site_dict = ptm_site_dict, \n",
    "    error_dir=pae_dir, \n",
    "    per_site_metric= 'mean',\n",
    "    error_operation='plus',\n",
    "    n_random=10000, \n",
    "    random_seed=44)"
   ]
  },
  {
   "cell_type": "code",
   "execution_count": null,
   "metadata": {},
   "outputs": [],
   "source": [
    "proximity_res_p"
   ]
  },
  {
   "cell_type": "code",
   "execution_count": null,
   "metadata": {},
   "outputs": [],
   "source": []
  }
 ],
 "metadata": {
  "kernelspec": {
   "display_name": "Python [conda env:alphamap_fold]",
   "language": "python",
   "name": "conda-env-alphamap_fold-py"
  },
  "language_info": {
   "codemirror_mode": {
    "name": "ipython",
    "version": 3
   },
   "file_extension": ".py",
   "mimetype": "text/x-python",
   "name": "python",
   "nbconvert_exporter": "python",
   "pygments_lexer": "ipython3",
   "version": "3.8.12"
  }
 },
 "nbformat": 4,
 "nbformat_minor": 2
}
