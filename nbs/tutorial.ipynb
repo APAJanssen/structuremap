{
 "cells": [
  {
   "cell_type": "markdown",
   "metadata": {},
   "source": [
    "# Tutorial: StructureMap"
   ]
  },
  {
   "cell_type": "markdown",
   "metadata": {},
   "source": [
    "## Import libraries"
   ]
  },
  {
   "cell_type": "code",
   "execution_count": 1,
   "metadata": {},
   "outputs": [],
   "source": [
    "# Import structuremap functions\n",
    "import structuremap.utils\n",
    "structuremap.utils.set_logger()\n",
    "from structuremap.processing import download_alphafold_cif, download_alphafold_pae, format_alphafold_data, annotate_accessibility, get_smooth_score, annotate_proteins_with_idr_pattern, get_extended_flexible_pattern, get_proximity_pvals, perform_enrichment_analysis, perform_enrichment_analysis_per_protein"
   ]
  },
  {
   "cell_type": "code",
   "execution_count": 2,
   "metadata": {},
   "outputs": [],
   "source": [
    "# Import \n",
    "import pandas as pd\n",
    "import numpy as np\n",
    "import os\n",
    "import re\n",
    "import plotly.express as px\n",
    "import tqdm\n",
    "import tempfile"
   ]
  },
  {
   "cell_type": "code",
   "execution_count": 3,
   "metadata": {},
   "outputs": [],
   "source": [
    "# Set output directory to tempdir\n",
    "output_dir = tempfile.gettempdir()"
   ]
  },
  {
   "cell_type": "markdown",
   "metadata": {},
   "source": [
    "## Select proteins to use for this tutorial"
   ]
  },
  {
   "cell_type": "code",
   "execution_count": 4,
   "metadata": {},
   "outputs": [],
   "source": [
    "test_proteins = ['O43353','P24941','Q92918','P45984','P28482','O96017',\n",
    "                 'P02730','Q8NB16','Q13546','P29320','P08559','P15121']"
   ]
  },
  {
   "cell_type": "markdown",
   "metadata": {},
   "source": [
    "## Download AlphaFold data"
   ]
  },
  {
   "cell_type": "code",
   "execution_count": 5,
   "metadata": {},
   "outputs": [],
   "source": [
    "cif_dir = os.path.join(output_dir, 'tutorial_cif')\n",
    "pae_dir = os.path.join(output_dir, 'tutorial_pae')"
   ]
  },
  {
   "cell_type": "code",
   "execution_count": 6,
   "metadata": {},
   "outputs": [
    {
     "name": "stderr",
     "output_type": "stream",
     "text": [
      "100%|██████████████████████████████████████████████████████████████████████████████████| 12/12 [00:00<00:00, 7962.61it/s]"
     ]
    },
    {
     "name": "stdout",
     "output_type": "stream",
     "text": [
      "2022-02-07 08:52:41> Valid proteins: 0\n",
      "2022-02-07 08:52:41> Invalid proteins: 0\n",
      "2022-02-07 08:52:41> Existing proteins: 12\n"
     ]
    },
    {
     "name": "stderr",
     "output_type": "stream",
     "text": [
      "\n"
     ]
    }
   ],
   "source": [
    "valid_proteins_cif, invalid_proteins_cif, existing_proteins_cif = download_alphafold_cif(\n",
    "    proteins=test_proteins,\n",
    "    out_folder=cif_dir)"
   ]
  },
  {
   "cell_type": "code",
   "execution_count": 7,
   "metadata": {},
   "outputs": [
    {
     "name": "stderr",
     "output_type": "stream",
     "text": [
      "100%|█████████████████████████████████████████████████████████████████████████████████| 12/12 [00:00<00:00, 16666.11it/s]"
     ]
    },
    {
     "name": "stdout",
     "output_type": "stream",
     "text": [
      "2022-02-07 08:52:41> Valid proteins: 0\n",
      "2022-02-07 08:52:41> Invalid proteins: 0\n",
      "2022-02-07 08:52:41> Existing proteins: 12\n"
     ]
    },
    {
     "name": "stderr",
     "output_type": "stream",
     "text": [
      "\n"
     ]
    }
   ],
   "source": [
    "valid_proteins_pae, invalid_proteins_pae, existing_proteins_pae = download_alphafold_pae(\n",
    "    proteins=test_proteins,\n",
    "    out_folder=pae_dir, \n",
    "    )"
   ]
  },
  {
   "cell_type": "markdown",
   "metadata": {},
   "source": [
    "## Format AlphaFold data input"
   ]
  },
  {
   "cell_type": "code",
   "execution_count": 8,
   "metadata": {},
   "outputs": [
    {
     "name": "stderr",
     "output_type": "stream",
     "text": [
      "100%|████████████████████████████████████████████████████████████████████████████████████| 12/12 [00:02<00:00,  4.66it/s]\n"
     ]
    }
   ],
   "source": [
    "alphafold_annotation = format_alphafold_data(\n",
    "    directory=cif_dir, \n",
    "    protein_ids=test_proteins)"
   ]
  },
  {
   "cell_type": "code",
   "execution_count": 9,
   "metadata": {},
   "outputs": [
    {
     "data": {
      "text/html": [
       "<div>\n",
       "<style scoped>\n",
       "    .dataframe tbody tr th:only-of-type {\n",
       "        vertical-align: middle;\n",
       "    }\n",
       "\n",
       "    .dataframe tbody tr th {\n",
       "        vertical-align: top;\n",
       "    }\n",
       "\n",
       "    .dataframe thead th {\n",
       "        text-align: right;\n",
       "    }\n",
       "</style>\n",
       "<table border=\"1\" class=\"dataframe\">\n",
       "  <thead>\n",
       "    <tr style=\"text-align: right;\">\n",
       "      <th></th>\n",
       "      <th>protein_id</th>\n",
       "      <th>protein_number</th>\n",
       "      <th>AA</th>\n",
       "      <th>position</th>\n",
       "      <th>quality</th>\n",
       "      <th>x_coord_c</th>\n",
       "      <th>x_coord_ca</th>\n",
       "      <th>x_coord_cb</th>\n",
       "      <th>x_coord_n</th>\n",
       "      <th>y_coord_c</th>\n",
       "      <th>...</th>\n",
       "      <th>z_coord_ca</th>\n",
       "      <th>z_coord_cb</th>\n",
       "      <th>z_coord_n</th>\n",
       "      <th>secondary_structure</th>\n",
       "      <th>structure_group</th>\n",
       "      <th>BEND</th>\n",
       "      <th>HELX</th>\n",
       "      <th>STRN</th>\n",
       "      <th>TURN</th>\n",
       "      <th>unstructured</th>\n",
       "    </tr>\n",
       "  </thead>\n",
       "  <tbody>\n",
       "    <tr>\n",
       "      <th>0</th>\n",
       "      <td>O43353</td>\n",
       "      <td>1</td>\n",
       "      <td>M</td>\n",
       "      <td>1</td>\n",
       "      <td>36.95</td>\n",
       "      <td>-20.649</td>\n",
       "      <td>-22.109</td>\n",
       "      <td>-22.991</td>\n",
       "      <td>-22.332</td>\n",
       "      <td>-11.261</td>\n",
       "      <td>...</td>\n",
       "      <td>-31.320</td>\n",
       "      <td>-30.655</td>\n",
       "      <td>-30.726</td>\n",
       "      <td>unstructured</td>\n",
       "      <td>unstructured</td>\n",
       "      <td>0</td>\n",
       "      <td>0</td>\n",
       "      <td>0</td>\n",
       "      <td>0</td>\n",
       "      <td>1</td>\n",
       "    </tr>\n",
       "    <tr>\n",
       "      <th>1</th>\n",
       "      <td>O43353</td>\n",
       "      <td>1</td>\n",
       "      <td>N</td>\n",
       "      <td>2</td>\n",
       "      <td>39.38</td>\n",
       "      <td>-18.674</td>\n",
       "      <td>-18.530</td>\n",
       "      <td>-17.736</td>\n",
       "      <td>-19.886</td>\n",
       "      <td>-8.995</td>\n",
       "      <td>...</td>\n",
       "      <td>-32.003</td>\n",
       "      <td>-33.314</td>\n",
       "      <td>-32.160</td>\n",
       "      <td>unstructured</td>\n",
       "      <td>unstructured</td>\n",
       "      <td>0</td>\n",
       "      <td>0</td>\n",
       "      <td>0</td>\n",
       "      <td>0</td>\n",
       "      <td>1</td>\n",
       "    </tr>\n",
       "    <tr>\n",
       "      <th>2</th>\n",
       "      <td>O43353</td>\n",
       "      <td>1</td>\n",
       "      <td>G</td>\n",
       "      <td>3</td>\n",
       "      <td>46.56</td>\n",
       "      <td>-17.165</td>\n",
       "      <td>-18.521</td>\n",
       "      <td>NaN</td>\n",
       "      <td>-18.591</td>\n",
       "      <td>-6.766</td>\n",
       "      <td>...</td>\n",
       "      <td>-29.807</td>\n",
       "      <td>NaN</td>\n",
       "      <td>-30.291</td>\n",
       "      <td>unstructured</td>\n",
       "      <td>unstructured</td>\n",
       "      <td>0</td>\n",
       "      <td>0</td>\n",
       "      <td>0</td>\n",
       "      <td>0</td>\n",
       "      <td>1</td>\n",
       "    </tr>\n",
       "  </tbody>\n",
       "</table>\n",
       "<p>3 rows × 24 columns</p>\n",
       "</div>"
      ],
      "text/plain": [
       "  protein_id  protein_number AA  position  quality  x_coord_c  x_coord_ca  \\\n",
       "0     O43353               1  M         1    36.95    -20.649     -22.109   \n",
       "1     O43353               1  N         2    39.38    -18.674     -18.530   \n",
       "2     O43353               1  G         3    46.56    -17.165     -18.521   \n",
       "\n",
       "   x_coord_cb  x_coord_n  y_coord_c  ...  z_coord_ca  z_coord_cb  z_coord_n  \\\n",
       "0     -22.991    -22.332    -11.261  ...     -31.320     -30.655    -30.726   \n",
       "1     -17.736    -19.886     -8.995  ...     -32.003     -33.314    -32.160   \n",
       "2         NaN    -18.591     -6.766  ...     -29.807         NaN    -30.291   \n",
       "\n",
       "   secondary_structure  structure_group  BEND  HELX STRN TURN  unstructured  \n",
       "0         unstructured     unstructured     0     0    0    0             1  \n",
       "1         unstructured     unstructured     0     0    0    0             1  \n",
       "2         unstructured     unstructured     0     0    0    0             1  \n",
       "\n",
       "[3 rows x 24 columns]"
      ]
     },
     "execution_count": 9,
     "metadata": {},
     "output_type": "execute_result"
    }
   ],
   "source": [
    "alphafold_annotation[0:3]"
   ]
  },
  {
   "cell_type": "markdown",
   "metadata": {},
   "source": [
    "## Annotate pPSE values"
   ]
  },
  {
   "cell_type": "code",
   "execution_count": 10,
   "metadata": {},
   "outputs": [
    {
     "name": "stderr",
     "output_type": "stream",
     "text": [
      "100%|████████████████████████████████████████████████████████████████████████████████████| 12/12 [00:03<00:00,  3.88it/s]\n"
     ]
    }
   ],
   "source": [
    "full_sphere_exposure = annotate_accessibility(\n",
    "    df=alphafold_annotation, \n",
    "    max_dist=24, \n",
    "    max_angle=180, \n",
    "    error_dir=pae_dir)"
   ]
  },
  {
   "cell_type": "code",
   "execution_count": 11,
   "metadata": {},
   "outputs": [],
   "source": [
    "alphafold_accessibility = alphafold_annotation.merge(\n",
    "    full_sphere_exposure, how='left', on=['protein_id','AA','position'])"
   ]
  },
  {
   "cell_type": "code",
   "execution_count": 12,
   "metadata": {},
   "outputs": [
    {
     "name": "stderr",
     "output_type": "stream",
     "text": [
      "100%|████████████████████████████████████████████████████████████████████████████████████| 12/12 [00:00<00:00, 65.21it/s]\n"
     ]
    }
   ],
   "source": [
    "part_sphere_exposure = annotate_accessibility(\n",
    "    df=alphafold_annotation, \n",
    "    max_dist=12, \n",
    "    max_angle=70, \n",
    "    error_dir=pae_dir)"
   ]
  },
  {
   "cell_type": "code",
   "execution_count": 13,
   "metadata": {},
   "outputs": [],
   "source": [
    "alphafold_accessibility = alphafold_accessibility.merge(\n",
    "    part_sphere_exposure, how='left', on=['protein_id','AA','position'])"
   ]
  },
  {
   "cell_type": "code",
   "execution_count": 14,
   "metadata": {},
   "outputs": [],
   "source": [
    "alphafold_accessibility['high_acc_5'] = np.where(alphafold_accessibility.nAA_12_70_pae <= 5, 1, 0)\n",
    "alphafold_accessibility['low_acc_5'] = np.where(alphafold_accessibility.nAA_12_70_pae > 5, 1, 0)"
   ]
  },
  {
   "cell_type": "markdown",
   "metadata": {},
   "source": [
    "## Annotate IDRs"
   ]
  },
  {
   "cell_type": "code",
   "execution_count": 15,
   "metadata": {},
   "outputs": [
    {
     "name": "stderr",
     "output_type": "stream",
     "text": [
      "100%|████████████████████████████████████████████████████████████████████████████████████| 12/12 [00:00<00:00, 39.58it/s]\n"
     ]
    }
   ],
   "source": [
    "alphafold_accessibility_smooth = get_smooth_score(\n",
    "    alphafold_accessibility, \n",
    "    np.array(['nAA_24_180_pae']), \n",
    "    [10])"
   ]
  },
  {
   "cell_type": "code",
   "execution_count": 16,
   "metadata": {},
   "outputs": [],
   "source": [
    "alphafold_accessibility_smooth['IDR'] = np.where(\n",
    "    alphafold_accessibility_smooth['nAA_24_180_pae_smooth10']<=34.27, 1, 0)"
   ]
  },
  {
   "cell_type": "markdown",
   "metadata": {},
   "source": [
    "## Annottate short IDRs"
   ]
  },
  {
   "cell_type": "code",
   "execution_count": 17,
   "metadata": {},
   "outputs": [
    {
     "name": "stderr",
     "output_type": "stream",
     "text": [
      "100%|███████████████████████████████████████████████████████████████████████████████████| 12/12 [00:00<00:00, 567.99it/s]\n"
     ]
    }
   ],
   "source": [
    "alphafold_accessibility_smooth_pattern = annotate_proteins_with_idr_pattern(\n",
    "    alphafold_accessibility_smooth,\n",
    "    min_structured_length = 80, \n",
    "    max_unstructured_length = 20)"
   ]
  },
  {
   "cell_type": "code",
   "execution_count": 18,
   "metadata": {},
   "outputs": [
    {
     "name": "stderr",
     "output_type": "stream",
     "text": [
      "100%|████████████████████████████████████████████████████████████████████████████████████| 12/12 [00:00<00:00, 29.54it/s]\n"
     ]
    }
   ],
   "source": [
    "alphafold_accessibility_smooth_pattern_ext = get_extended_flexible_pattern(\n",
    "    alphafold_accessibility_smooth_pattern, \n",
    "    ['flexible_pattern'], [5])"
   ]
  },
  {
   "cell_type": "code",
   "execution_count": 19,
   "metadata": {},
   "outputs": [
    {
     "data": {
      "text/html": [
       "<div>\n",
       "<style scoped>\n",
       "    .dataframe tbody tr th:only-of-type {\n",
       "        vertical-align: middle;\n",
       "    }\n",
       "\n",
       "    .dataframe tbody tr th {\n",
       "        vertical-align: top;\n",
       "    }\n",
       "\n",
       "    .dataframe thead th {\n",
       "        text-align: right;\n",
       "    }\n",
       "</style>\n",
       "<table border=\"1\" class=\"dataframe\">\n",
       "  <thead>\n",
       "    <tr style=\"text-align: right;\">\n",
       "      <th></th>\n",
       "      <th>protein_id</th>\n",
       "      <th>protein_number</th>\n",
       "      <th>AA</th>\n",
       "      <th>position</th>\n",
       "      <th>quality</th>\n",
       "      <th>x_coord_c</th>\n",
       "      <th>x_coord_ca</th>\n",
       "      <th>x_coord_cb</th>\n",
       "      <th>x_coord_n</th>\n",
       "      <th>y_coord_c</th>\n",
       "      <th>...</th>\n",
       "      <th>TURN</th>\n",
       "      <th>unstructured</th>\n",
       "      <th>nAA_24_180_pae</th>\n",
       "      <th>nAA_12_70_pae</th>\n",
       "      <th>high_acc_5</th>\n",
       "      <th>low_acc_5</th>\n",
       "      <th>nAA_24_180_pae_smooth10</th>\n",
       "      <th>IDR</th>\n",
       "      <th>flexible_pattern</th>\n",
       "      <th>flexible_pattern_extended_5</th>\n",
       "    </tr>\n",
       "  </thead>\n",
       "  <tbody>\n",
       "    <tr>\n",
       "      <th>0</th>\n",
       "      <td>O43353</td>\n",
       "      <td>1</td>\n",
       "      <td>M</td>\n",
       "      <td>1</td>\n",
       "      <td>36.95</td>\n",
       "      <td>-20.649</td>\n",
       "      <td>-22.109</td>\n",
       "      <td>-22.991</td>\n",
       "      <td>-22.332</td>\n",
       "      <td>-11.261</td>\n",
       "      <td>...</td>\n",
       "      <td>0</td>\n",
       "      <td>1</td>\n",
       "      <td>4</td>\n",
       "      <td>0</td>\n",
       "      <td>1</td>\n",
       "      <td>0</td>\n",
       "      <td>29.909091</td>\n",
       "      <td>1</td>\n",
       "      <td>0</td>\n",
       "      <td>0</td>\n",
       "    </tr>\n",
       "    <tr>\n",
       "      <th>1</th>\n",
       "      <td>O43353</td>\n",
       "      <td>1</td>\n",
       "      <td>N</td>\n",
       "      <td>2</td>\n",
       "      <td>39.38</td>\n",
       "      <td>-18.674</td>\n",
       "      <td>-18.530</td>\n",
       "      <td>-17.736</td>\n",
       "      <td>-19.886</td>\n",
       "      <td>-8.995</td>\n",
       "      <td>...</td>\n",
       "      <td>0</td>\n",
       "      <td>1</td>\n",
       "      <td>5</td>\n",
       "      <td>0</td>\n",
       "      <td>1</td>\n",
       "      <td>0</td>\n",
       "      <td>34.500000</td>\n",
       "      <td>0</td>\n",
       "      <td>0</td>\n",
       "      <td>0</td>\n",
       "    </tr>\n",
       "    <tr>\n",
       "      <th>2</th>\n",
       "      <td>O43353</td>\n",
       "      <td>1</td>\n",
       "      <td>G</td>\n",
       "      <td>3</td>\n",
       "      <td>46.56</td>\n",
       "      <td>-17.165</td>\n",
       "      <td>-18.521</td>\n",
       "      <td>NaN</td>\n",
       "      <td>-18.591</td>\n",
       "      <td>-6.766</td>\n",
       "      <td>...</td>\n",
       "      <td>0</td>\n",
       "      <td>1</td>\n",
       "      <td>6</td>\n",
       "      <td>0</td>\n",
       "      <td>1</td>\n",
       "      <td>0</td>\n",
       "      <td>38.461538</td>\n",
       "      <td>0</td>\n",
       "      <td>0</td>\n",
       "      <td>0</td>\n",
       "    </tr>\n",
       "  </tbody>\n",
       "</table>\n",
       "<p>3 rows × 32 columns</p>\n",
       "</div>"
      ],
      "text/plain": [
       "  protein_id  protein_number AA  position  quality  x_coord_c  x_coord_ca  \\\n",
       "0     O43353               1  M         1    36.95    -20.649     -22.109   \n",
       "1     O43353               1  N         2    39.38    -18.674     -18.530   \n",
       "2     O43353               1  G         3    46.56    -17.165     -18.521   \n",
       "\n",
       "   x_coord_cb  x_coord_n  y_coord_c  ...  TURN  unstructured  nAA_24_180_pae  \\\n",
       "0     -22.991    -22.332    -11.261  ...     0             1               4   \n",
       "1     -17.736    -19.886     -8.995  ...     0             1               5   \n",
       "2         NaN    -18.591     -6.766  ...     0             1               6   \n",
       "\n",
       "   nAA_12_70_pae  high_acc_5  low_acc_5  nAA_24_180_pae_smooth10 IDR  \\\n",
       "0              0           1          0                29.909091   1   \n",
       "1              0           1          0                34.500000   0   \n",
       "2              0           1          0                38.461538   0   \n",
       "\n",
       "  flexible_pattern  flexible_pattern_extended_5  \n",
       "0                0                            0  \n",
       "1                0                            0  \n",
       "2                0                            0  \n",
       "\n",
       "[3 rows x 32 columns]"
      ]
     },
     "execution_count": 19,
     "metadata": {},
     "output_type": "execute_result"
    }
   ],
   "source": [
    "alphafold_accessibility_smooth_pattern_ext[0:3]"
   ]
  },
  {
   "cell_type": "markdown",
   "metadata": {},
   "source": [
    "## Annotate PTM data"
   ]
  },
  {
   "cell_type": "code",
   "execution_count": 21,
   "metadata": {},
   "outputs": [],
   "source": [
    "ptm_file_location = os.path.join(\"..\",\"data\",\"test_files\",\"ptm_file.csv\")\n",
    "ptm_file = pd.read_csv(ptm_file_location)"
   ]
  },
  {
   "cell_type": "code",
   "execution_count": 22,
   "metadata": {},
   "outputs": [
    {
     "data": {
      "text/html": [
       "<div>\n",
       "<style scoped>\n",
       "    .dataframe tbody tr th:only-of-type {\n",
       "        vertical-align: middle;\n",
       "    }\n",
       "\n",
       "    .dataframe tbody tr th {\n",
       "        vertical-align: top;\n",
       "    }\n",
       "\n",
       "    .dataframe thead th {\n",
       "        text-align: right;\n",
       "    }\n",
       "</style>\n",
       "<table border=\"1\" class=\"dataframe\">\n",
       "  <thead>\n",
       "    <tr style=\"text-align: right;\">\n",
       "      <th></th>\n",
       "      <th>Unnamed: 0</th>\n",
       "      <th>protein_id</th>\n",
       "      <th>AA</th>\n",
       "      <th>position</th>\n",
       "      <th>ac</th>\n",
       "      <th>ac_reg</th>\n",
       "      <th>ga</th>\n",
       "      <th>gl</th>\n",
       "      <th>gl_reg</th>\n",
       "      <th>m</th>\n",
       "      <th>m_reg</th>\n",
       "      <th>p</th>\n",
       "      <th>p_reg</th>\n",
       "      <th>sm</th>\n",
       "      <th>sm_reg</th>\n",
       "      <th>ub</th>\n",
       "      <th>ub_reg</th>\n",
       "    </tr>\n",
       "  </thead>\n",
       "  <tbody>\n",
       "    <tr>\n",
       "      <th>0</th>\n",
       "      <td>0</td>\n",
       "      <td>O43353</td>\n",
       "      <td>K</td>\n",
       "      <td>17</td>\n",
       "      <td>0</td>\n",
       "      <td>0</td>\n",
       "      <td>0</td>\n",
       "      <td>0</td>\n",
       "      <td>0</td>\n",
       "      <td>0</td>\n",
       "      <td>0</td>\n",
       "      <td>0</td>\n",
       "      <td>0</td>\n",
       "      <td>0</td>\n",
       "      <td>0</td>\n",
       "      <td>1</td>\n",
       "      <td>0</td>\n",
       "    </tr>\n",
       "    <tr>\n",
       "      <th>1</th>\n",
       "      <td>1</td>\n",
       "      <td>O43353</td>\n",
       "      <td>K</td>\n",
       "      <td>182</td>\n",
       "      <td>0</td>\n",
       "      <td>0</td>\n",
       "      <td>0</td>\n",
       "      <td>0</td>\n",
       "      <td>0</td>\n",
       "      <td>0</td>\n",
       "      <td>0</td>\n",
       "      <td>0</td>\n",
       "      <td>0</td>\n",
       "      <td>0</td>\n",
       "      <td>0</td>\n",
       "      <td>1</td>\n",
       "      <td>0</td>\n",
       "    </tr>\n",
       "    <tr>\n",
       "      <th>2</th>\n",
       "      <td>2</td>\n",
       "      <td>O43353</td>\n",
       "      <td>K</td>\n",
       "      <td>203</td>\n",
       "      <td>0</td>\n",
       "      <td>0</td>\n",
       "      <td>0</td>\n",
       "      <td>0</td>\n",
       "      <td>0</td>\n",
       "      <td>0</td>\n",
       "      <td>0</td>\n",
       "      <td>0</td>\n",
       "      <td>0</td>\n",
       "      <td>0</td>\n",
       "      <td>0</td>\n",
       "      <td>1</td>\n",
       "      <td>0</td>\n",
       "    </tr>\n",
       "  </tbody>\n",
       "</table>\n",
       "</div>"
      ],
      "text/plain": [
       "   Unnamed: 0 protein_id AA  position  ac  ac_reg  ga  gl  gl_reg  m  m_reg  \\\n",
       "0           0     O43353  K        17   0       0   0   0       0  0      0   \n",
       "1           1     O43353  K       182   0       0   0   0       0  0      0   \n",
       "2           2     O43353  K       203   0       0   0   0       0  0      0   \n",
       "\n",
       "   p  p_reg  sm  sm_reg  ub  ub_reg  \n",
       "0  0      0   0       0   1       0  \n",
       "1  0      0   0       0   1       0  \n",
       "2  0      0   0       0   1       0  "
      ]
     },
     "execution_count": 22,
     "metadata": {},
     "output_type": "execute_result"
    }
   ],
   "source": [
    "ptm_file[0:3]"
   ]
  },
  {
   "cell_type": "code",
   "execution_count": 23,
   "metadata": {},
   "outputs": [],
   "source": [
    "alphafold_ptms = alphafold_accessibility_smooth_pattern_ext.merge(ptm_file, how='left', on=['protein_id','AA','position'])\n",
    "alphafold_ptms = alphafold_ptms.fillna(0)"
   ]
  },
  {
   "cell_type": "code",
   "execution_count": 24,
   "metadata": {},
   "outputs": [],
   "source": [
    "ptm_site_dict = {'p':['S','T','Y'],\n",
    "                 'p_reg':['S','T','Y']}"
   ]
  },
  {
   "cell_type": "markdown",
   "metadata": {},
   "source": [
    "## Perform PTM enrichment analysis"
   ]
  },
  {
   "cell_type": "code",
   "execution_count": 25,
   "metadata": {},
   "outputs": [],
   "source": [
    "enrichment_p = perform_enrichment_analysis(\n",
    "    df=alphafold_ptms, \n",
    "    ptm_types=['p', 'p_reg'], \n",
    "    rois=['IDR'], \n",
    "    ptm_site_dict = ptm_site_dict,\n",
    "    quality_cutoffs=[0])"
   ]
  },
  {
   "cell_type": "code",
   "execution_count": 26,
   "metadata": {},
   "outputs": [
    {
     "data": {
      "text/html": [
       "<div>\n",
       "<style scoped>\n",
       "    .dataframe tbody tr th:only-of-type {\n",
       "        vertical-align: middle;\n",
       "    }\n",
       "\n",
       "    .dataframe tbody tr th {\n",
       "        vertical-align: top;\n",
       "    }\n",
       "\n",
       "    .dataframe thead th {\n",
       "        text-align: right;\n",
       "    }\n",
       "</style>\n",
       "<table border=\"1\" class=\"dataframe\">\n",
       "  <thead>\n",
       "    <tr style=\"text-align: right;\">\n",
       "      <th></th>\n",
       "      <th>quality_cutoff</th>\n",
       "      <th>ptm</th>\n",
       "      <th>roi</th>\n",
       "      <th>n_aa_ptm</th>\n",
       "      <th>n_aa_roi</th>\n",
       "      <th>n_ptm_in_roi</th>\n",
       "      <th>n_ptm_not_in_roi</th>\n",
       "      <th>n_naked_in_roi</th>\n",
       "      <th>n_naked_not_in_roi</th>\n",
       "      <th>oddsr</th>\n",
       "      <th>p</th>\n",
       "      <th>p_adj_bf</th>\n",
       "      <th>p_adj_bh</th>\n",
       "    </tr>\n",
       "  </thead>\n",
       "  <tbody>\n",
       "    <tr>\n",
       "      <th>0</th>\n",
       "      <td>0</td>\n",
       "      <td>p</td>\n",
       "      <td>IDR</td>\n",
       "      <td>281</td>\n",
       "      <td>259</td>\n",
       "      <td>116</td>\n",
       "      <td>165</td>\n",
       "      <td>143</td>\n",
       "      <td>639</td>\n",
       "      <td>3.141513</td>\n",
       "      <td>1.209934e-13</td>\n",
       "      <td>2.419868e-13</td>\n",
       "      <td>2.419868e-13</td>\n",
       "    </tr>\n",
       "    <tr>\n",
       "      <th>0</th>\n",
       "      <td>0</td>\n",
       "      <td>p_reg</td>\n",
       "      <td>IDR</td>\n",
       "      <td>60</td>\n",
       "      <td>259</td>\n",
       "      <td>21</td>\n",
       "      <td>39</td>\n",
       "      <td>238</td>\n",
       "      <td>765</td>\n",
       "      <td>1.730769</td>\n",
       "      <td>6.193364e-02</td>\n",
       "      <td>1.238673e-01</td>\n",
       "      <td>6.193364e-02</td>\n",
       "    </tr>\n",
       "  </tbody>\n",
       "</table>\n",
       "</div>"
      ],
      "text/plain": [
       "   quality_cutoff    ptm  roi  n_aa_ptm  n_aa_roi  n_ptm_in_roi  \\\n",
       "0               0      p  IDR       281       259           116   \n",
       "0               0  p_reg  IDR        60       259            21   \n",
       "\n",
       "   n_ptm_not_in_roi  n_naked_in_roi  n_naked_not_in_roi     oddsr  \\\n",
       "0               165             143                 639  3.141513   \n",
       "0                39             238                 765  1.730769   \n",
       "\n",
       "              p      p_adj_bf      p_adj_bh  \n",
       "0  1.209934e-13  2.419868e-13  2.419868e-13  \n",
       "0  6.193364e-02  1.238673e-01  6.193364e-02  "
      ]
     },
     "execution_count": 26,
     "metadata": {},
     "output_type": "execute_result"
    }
   ],
   "source": [
    "enrichment_p"
   ]
  },
  {
   "cell_type": "markdown",
   "metadata": {},
   "source": [
    "## Perform PTM enrichment analysis per protein"
   ]
  },
  {
   "cell_type": "code",
   "execution_count": 27,
   "metadata": {},
   "outputs": [
    {
     "name": "stderr",
     "output_type": "stream",
     "text": [
      "100%|████████████████████████████████████████████████████████████████████████████████████| 12/12 [00:00<00:00, 95.06it/s]\n"
     ]
    }
   ],
   "source": [
    "enrichment_p_per_protein = perform_enrichment_analysis_per_protein( \n",
    "    df=alphafold_ptms, \n",
    "    ptm_types=['p', 'p_reg'], \n",
    "    rois=['IDR'], \n",
    "    ptm_site_dict = ptm_site_dict,\n",
    "    quality_cutoffs=[0])"
   ]
  },
  {
   "cell_type": "code",
   "execution_count": 28,
   "metadata": {},
   "outputs": [
    {
     "data": {
      "text/html": [
       "<div>\n",
       "<style scoped>\n",
       "    .dataframe tbody tr th:only-of-type {\n",
       "        vertical-align: middle;\n",
       "    }\n",
       "\n",
       "    .dataframe tbody tr th {\n",
       "        vertical-align: top;\n",
       "    }\n",
       "\n",
       "    .dataframe thead th {\n",
       "        text-align: right;\n",
       "    }\n",
       "</style>\n",
       "<table border=\"1\" class=\"dataframe\">\n",
       "  <thead>\n",
       "    <tr style=\"text-align: right;\">\n",
       "      <th></th>\n",
       "      <th>protein_id</th>\n",
       "      <th>quality_cutoff</th>\n",
       "      <th>ptm</th>\n",
       "      <th>roi</th>\n",
       "      <th>n_aa_ptm</th>\n",
       "      <th>n_aa_roi</th>\n",
       "      <th>n_ptm_in_roi</th>\n",
       "      <th>n_ptm_not_in_roi</th>\n",
       "      <th>n_naked_in_roi</th>\n",
       "      <th>n_naked_not_in_roi</th>\n",
       "      <th>oddsr</th>\n",
       "      <th>p</th>\n",
       "      <th>p_adj_bf</th>\n",
       "      <th>p_adj_bh</th>\n",
       "    </tr>\n",
       "  </thead>\n",
       "  <tbody>\n",
       "    <tr>\n",
       "      <th>0</th>\n",
       "      <td>O43353</td>\n",
       "      <td>0</td>\n",
       "      <td>p</td>\n",
       "      <td>IDR</td>\n",
       "      <td>23</td>\n",
       "      <td>32</td>\n",
       "      <td>19</td>\n",
       "      <td>4</td>\n",
       "      <td>13</td>\n",
       "      <td>57</td>\n",
       "      <td>20.826923</td>\n",
       "      <td>5.076834e-08</td>\n",
       "      <td>6.092200e-07</td>\n",
       "      <td>3.046100e-07</td>\n",
       "    </tr>\n",
       "    <tr>\n",
       "      <th>1</th>\n",
       "      <td>O43353</td>\n",
       "      <td>0</td>\n",
       "      <td>p_reg</td>\n",
       "      <td>IDR</td>\n",
       "      <td>2</td>\n",
       "      <td>32</td>\n",
       "      <td>1</td>\n",
       "      <td>1</td>\n",
       "      <td>31</td>\n",
       "      <td>60</td>\n",
       "      <td>1.935484</td>\n",
       "      <td>1.000000e+00</td>\n",
       "      <td>1.000000e+00</td>\n",
       "      <td>1.000000e+00</td>\n",
       "    </tr>\n",
       "    <tr>\n",
       "      <th>2</th>\n",
       "      <td>O96017</td>\n",
       "      <td>0</td>\n",
       "      <td>p_reg</td>\n",
       "      <td>IDR</td>\n",
       "      <td>21</td>\n",
       "      <td>40</td>\n",
       "      <td>9</td>\n",
       "      <td>12</td>\n",
       "      <td>31</td>\n",
       "      <td>51</td>\n",
       "      <td>1.233871</td>\n",
       "      <td>8.025566e-01</td>\n",
       "      <td>1.000000e+00</td>\n",
       "      <td>1.000000e+00</td>\n",
       "    </tr>\n",
       "    <tr>\n",
       "      <th>3</th>\n",
       "      <td>P02730</td>\n",
       "      <td>0</td>\n",
       "      <td>p_reg</td>\n",
       "      <td>IDR</td>\n",
       "      <td>4</td>\n",
       "      <td>17</td>\n",
       "      <td>4</td>\n",
       "      <td>0</td>\n",
       "      <td>13</td>\n",
       "      <td>107</td>\n",
       "      <td>inf</td>\n",
       "      <td>2.536975e-04</td>\n",
       "      <td>3.044370e-03</td>\n",
       "      <td>1.014790e-03</td>\n",
       "    </tr>\n",
       "    <tr>\n",
       "      <th>4</th>\n",
       "      <td>P29320</td>\n",
       "      <td>0</td>\n",
       "      <td>p</td>\n",
       "      <td>IDR</td>\n",
       "      <td>23</td>\n",
       "      <td>37</td>\n",
       "      <td>8</td>\n",
       "      <td>15</td>\n",
       "      <td>29</td>\n",
       "      <td>128</td>\n",
       "      <td>2.354023</td>\n",
       "      <td>9.479941e-02</td>\n",
       "      <td>1.000000e+00</td>\n",
       "      <td>2.843982e-01</td>\n",
       "    </tr>\n",
       "    <tr>\n",
       "      <th>5</th>\n",
       "      <td>P29320</td>\n",
       "      <td>0</td>\n",
       "      <td>p_reg</td>\n",
       "      <td>IDR</td>\n",
       "      <td>5</td>\n",
       "      <td>37</td>\n",
       "      <td>2</td>\n",
       "      <td>3</td>\n",
       "      <td>35</td>\n",
       "      <td>140</td>\n",
       "      <td>2.666667</td>\n",
       "      <td>2.730826e-01</td>\n",
       "      <td>1.000000e+00</td>\n",
       "      <td>6.553982e-01</td>\n",
       "    </tr>\n",
       "    <tr>\n",
       "      <th>6</th>\n",
       "      <td>P45984</td>\n",
       "      <td>0</td>\n",
       "      <td>p</td>\n",
       "      <td>IDR</td>\n",
       "      <td>11</td>\n",
       "      <td>21</td>\n",
       "      <td>3</td>\n",
       "      <td>8</td>\n",
       "      <td>18</td>\n",
       "      <td>42</td>\n",
       "      <td>0.875000</td>\n",
       "      <td>1.000000e+00</td>\n",
       "      <td>1.000000e+00</td>\n",
       "      <td>1.000000e+00</td>\n",
       "    </tr>\n",
       "    <tr>\n",
       "      <th>7</th>\n",
       "      <td>Q13546</td>\n",
       "      <td>0</td>\n",
       "      <td>p</td>\n",
       "      <td>IDR</td>\n",
       "      <td>36</td>\n",
       "      <td>62</td>\n",
       "      <td>21</td>\n",
       "      <td>15</td>\n",
       "      <td>41</td>\n",
       "      <td>37</td>\n",
       "      <td>1.263415</td>\n",
       "      <td>6.863530e-01</td>\n",
       "      <td>1.000000e+00</td>\n",
       "      <td>1.000000e+00</td>\n",
       "    </tr>\n",
       "    <tr>\n",
       "      <th>8</th>\n",
       "      <td>Q13546</td>\n",
       "      <td>0</td>\n",
       "      <td>p_reg</td>\n",
       "      <td>IDR</td>\n",
       "      <td>4</td>\n",
       "      <td>62</td>\n",
       "      <td>3</td>\n",
       "      <td>1</td>\n",
       "      <td>59</td>\n",
       "      <td>51</td>\n",
       "      <td>2.593220</td>\n",
       "      <td>6.242301e-01</td>\n",
       "      <td>1.000000e+00</td>\n",
       "      <td>1.000000e+00</td>\n",
       "    </tr>\n",
       "    <tr>\n",
       "      <th>9</th>\n",
       "      <td>Q8NB16</td>\n",
       "      <td>0</td>\n",
       "      <td>p_reg</td>\n",
       "      <td>IDR</td>\n",
       "      <td>3</td>\n",
       "      <td>4</td>\n",
       "      <td>0</td>\n",
       "      <td>3</td>\n",
       "      <td>4</td>\n",
       "      <td>57</td>\n",
       "      <td>0.000000</td>\n",
       "      <td>1.000000e+00</td>\n",
       "      <td>1.000000e+00</td>\n",
       "      <td>1.000000e+00</td>\n",
       "    </tr>\n",
       "    <tr>\n",
       "      <th>10</th>\n",
       "      <td>Q92918</td>\n",
       "      <td>0</td>\n",
       "      <td>p</td>\n",
       "      <td>IDR</td>\n",
       "      <td>34</td>\n",
       "      <td>42</td>\n",
       "      <td>25</td>\n",
       "      <td>9</td>\n",
       "      <td>17</td>\n",
       "      <td>74</td>\n",
       "      <td>12.091503</td>\n",
       "      <td>1.923054e-08</td>\n",
       "      <td>2.307665e-07</td>\n",
       "      <td>2.307665e-07</td>\n",
       "    </tr>\n",
       "    <tr>\n",
       "      <th>11</th>\n",
       "      <td>Q92918</td>\n",
       "      <td>0</td>\n",
       "      <td>p_reg</td>\n",
       "      <td>IDR</td>\n",
       "      <td>4</td>\n",
       "      <td>42</td>\n",
       "      <td>2</td>\n",
       "      <td>2</td>\n",
       "      <td>40</td>\n",
       "      <td>81</td>\n",
       "      <td>2.025000</td>\n",
       "      <td>6.018107e-01</td>\n",
       "      <td>1.000000e+00</td>\n",
       "      <td>1.000000e+00</td>\n",
       "    </tr>\n",
       "  </tbody>\n",
       "</table>\n",
       "</div>"
      ],
      "text/plain": [
       "   protein_id  quality_cutoff    ptm  roi  n_aa_ptm  n_aa_roi  n_ptm_in_roi  \\\n",
       "0      O43353               0      p  IDR        23        32            19   \n",
       "1      O43353               0  p_reg  IDR         2        32             1   \n",
       "2      O96017               0  p_reg  IDR        21        40             9   \n",
       "3      P02730               0  p_reg  IDR         4        17             4   \n",
       "4      P29320               0      p  IDR        23        37             8   \n",
       "5      P29320               0  p_reg  IDR         5        37             2   \n",
       "6      P45984               0      p  IDR        11        21             3   \n",
       "7      Q13546               0      p  IDR        36        62            21   \n",
       "8      Q13546               0  p_reg  IDR         4        62             3   \n",
       "9      Q8NB16               0  p_reg  IDR         3         4             0   \n",
       "10     Q92918               0      p  IDR        34        42            25   \n",
       "11     Q92918               0  p_reg  IDR         4        42             2   \n",
       "\n",
       "    n_ptm_not_in_roi  n_naked_in_roi  n_naked_not_in_roi      oddsr  \\\n",
       "0                  4              13                  57  20.826923   \n",
       "1                  1              31                  60   1.935484   \n",
       "2                 12              31                  51   1.233871   \n",
       "3                  0              13                 107        inf   \n",
       "4                 15              29                 128   2.354023   \n",
       "5                  3              35                 140   2.666667   \n",
       "6                  8              18                  42   0.875000   \n",
       "7                 15              41                  37   1.263415   \n",
       "8                  1              59                  51   2.593220   \n",
       "9                  3               4                  57   0.000000   \n",
       "10                 9              17                  74  12.091503   \n",
       "11                 2              40                  81   2.025000   \n",
       "\n",
       "               p      p_adj_bf      p_adj_bh  \n",
       "0   5.076834e-08  6.092200e-07  3.046100e-07  \n",
       "1   1.000000e+00  1.000000e+00  1.000000e+00  \n",
       "2   8.025566e-01  1.000000e+00  1.000000e+00  \n",
       "3   2.536975e-04  3.044370e-03  1.014790e-03  \n",
       "4   9.479941e-02  1.000000e+00  2.843982e-01  \n",
       "5   2.730826e-01  1.000000e+00  6.553982e-01  \n",
       "6   1.000000e+00  1.000000e+00  1.000000e+00  \n",
       "7   6.863530e-01  1.000000e+00  1.000000e+00  \n",
       "8   6.242301e-01  1.000000e+00  1.000000e+00  \n",
       "9   1.000000e+00  1.000000e+00  1.000000e+00  \n",
       "10  1.923054e-08  2.307665e-07  2.307665e-07  \n",
       "11  6.018107e-01  1.000000e+00  1.000000e+00  "
      ]
     },
     "execution_count": 28,
     "metadata": {},
     "output_type": "execute_result"
    }
   ],
   "source": [
    "enrichment_p_per_protein"
   ]
  },
  {
   "cell_type": "markdown",
   "metadata": {},
   "source": [
    "## Get 3D clusters"
   ]
  },
  {
   "cell_type": "code",
   "execution_count": 29,
   "metadata": {},
   "outputs": [
    {
     "name": "stderr",
     "output_type": "stream",
     "text": [
      "100%|████████████████████████████████████████████████████████████████████████████████████| 12/12 [00:13<00:00,  1.10s/it]\n"
     ]
    }
   ],
   "source": [
    "proximity_res_p = get_proximity_pvals(\n",
    "    df=alphafold_ptms, \n",
    "    ptm_types = ['p'], \n",
    "    ptm_site_dict = ptm_site_dict, \n",
    "    error_dir=pae_dir, \n",
    "    per_site_metric= 'mean',\n",
    "    error_operation='plus',\n",
    "    n_random=10000, \n",
    "    random_seed=44)"
   ]
  },
  {
   "cell_type": "code",
   "execution_count": 30,
   "metadata": {},
   "outputs": [
    {
     "data": {
      "text/html": [
       "<div>\n",
       "<style scoped>\n",
       "    .dataframe tbody tr th:only-of-type {\n",
       "        vertical-align: middle;\n",
       "    }\n",
       "\n",
       "    .dataframe tbody tr th {\n",
       "        vertical-align: top;\n",
       "    }\n",
       "\n",
       "    .dataframe thead th {\n",
       "        text-align: right;\n",
       "    }\n",
       "</style>\n",
       "<table border=\"1\" class=\"dataframe\">\n",
       "  <thead>\n",
       "    <tr style=\"text-align: right;\">\n",
       "      <th></th>\n",
       "      <th>protein_id</th>\n",
       "      <th>ptm</th>\n",
       "      <th>n_ptms</th>\n",
       "      <th>pvalue_1d</th>\n",
       "      <th>pvalue_3d</th>\n",
       "      <th>pvalue_1d_adj_bh</th>\n",
       "      <th>pvalue_3d_adj_bh</th>\n",
       "    </tr>\n",
       "  </thead>\n",
       "  <tbody>\n",
       "    <tr>\n",
       "      <th>0</th>\n",
       "      <td>O43353</td>\n",
       "      <td>p</td>\n",
       "      <td>23.0</td>\n",
       "      <td>0.1935</td>\n",
       "      <td>0.9943</td>\n",
       "      <td>0.290250</td>\n",
       "      <td>1.000000</td>\n",
       "    </tr>\n",
       "    <tr>\n",
       "      <th>1</th>\n",
       "      <td>O96017</td>\n",
       "      <td>p</td>\n",
       "      <td>42.0</td>\n",
       "      <td>0.1384</td>\n",
       "      <td>0.8308</td>\n",
       "      <td>0.276800</td>\n",
       "      <td>1.000000</td>\n",
       "    </tr>\n",
       "    <tr>\n",
       "      <th>2</th>\n",
       "      <td>P02730</td>\n",
       "      <td>p</td>\n",
       "      <td>24.0</td>\n",
       "      <td>0.8482</td>\n",
       "      <td>0.4442</td>\n",
       "      <td>0.848200</td>\n",
       "      <td>0.761486</td>\n",
       "    </tr>\n",
       "    <tr>\n",
       "      <th>3</th>\n",
       "      <td>P08559</td>\n",
       "      <td>p</td>\n",
       "      <td>21.0</td>\n",
       "      <td>0.0000</td>\n",
       "      <td>0.0003</td>\n",
       "      <td>0.000000</td>\n",
       "      <td>0.003600</td>\n",
       "    </tr>\n",
       "    <tr>\n",
       "      <th>4</th>\n",
       "      <td>P15121</td>\n",
       "      <td>p</td>\n",
       "      <td>16.0</td>\n",
       "      <td>0.3715</td>\n",
       "      <td>0.0016</td>\n",
       "      <td>0.445800</td>\n",
       "      <td>0.009600</td>\n",
       "    </tr>\n",
       "    <tr>\n",
       "      <th>5</th>\n",
       "      <td>P24941</td>\n",
       "      <td>p</td>\n",
       "      <td>11.0</td>\n",
       "      <td>0.0863</td>\n",
       "      <td>0.0523</td>\n",
       "      <td>0.207120</td>\n",
       "      <td>0.192720</td>\n",
       "    </tr>\n",
       "    <tr>\n",
       "      <th>6</th>\n",
       "      <td>P28482</td>\n",
       "      <td>p</td>\n",
       "      <td>21.0</td>\n",
       "      <td>0.2846</td>\n",
       "      <td>0.8203</td>\n",
       "      <td>0.379467</td>\n",
       "      <td>1.000000</td>\n",
       "    </tr>\n",
       "    <tr>\n",
       "      <th>7</th>\n",
       "      <td>P29320</td>\n",
       "      <td>p</td>\n",
       "      <td>23.0</td>\n",
       "      <td>0.0004</td>\n",
       "      <td>0.0803</td>\n",
       "      <td>0.001600</td>\n",
       "      <td>0.192720</td>\n",
       "    </tr>\n",
       "    <tr>\n",
       "      <th>8</th>\n",
       "      <td>P45984</td>\n",
       "      <td>p</td>\n",
       "      <td>11.0</td>\n",
       "      <td>0.0367</td>\n",
       "      <td>0.2277</td>\n",
       "      <td>0.110100</td>\n",
       "      <td>0.455400</td>\n",
       "    </tr>\n",
       "    <tr>\n",
       "      <th>9</th>\n",
       "      <td>Q13546</td>\n",
       "      <td>p</td>\n",
       "      <td>36.0</td>\n",
       "      <td>0.1683</td>\n",
       "      <td>0.0765</td>\n",
       "      <td>0.288514</td>\n",
       "      <td>0.192720</td>\n",
       "    </tr>\n",
       "    <tr>\n",
       "      <th>10</th>\n",
       "      <td>Q8NB16</td>\n",
       "      <td>p</td>\n",
       "      <td>19.0</td>\n",
       "      <td>0.6718</td>\n",
       "      <td>0.8475</td>\n",
       "      <td>0.732873</td>\n",
       "      <td>1.000000</td>\n",
       "    </tr>\n",
       "    <tr>\n",
       "      <th>11</th>\n",
       "      <td>Q92918</td>\n",
       "      <td>p</td>\n",
       "      <td>34.0</td>\n",
       "      <td>0.0000</td>\n",
       "      <td>1.0000</td>\n",
       "      <td>0.000000</td>\n",
       "      <td>1.000000</td>\n",
       "    </tr>\n",
       "  </tbody>\n",
       "</table>\n",
       "</div>"
      ],
      "text/plain": [
       "   protein_id ptm  n_ptms  pvalue_1d  pvalue_3d  pvalue_1d_adj_bh  \\\n",
       "0      O43353   p    23.0     0.1935     0.9943          0.290250   \n",
       "1      O96017   p    42.0     0.1384     0.8308          0.276800   \n",
       "2      P02730   p    24.0     0.8482     0.4442          0.848200   \n",
       "3      P08559   p    21.0     0.0000     0.0003          0.000000   \n",
       "4      P15121   p    16.0     0.3715     0.0016          0.445800   \n",
       "5      P24941   p    11.0     0.0863     0.0523          0.207120   \n",
       "6      P28482   p    21.0     0.2846     0.8203          0.379467   \n",
       "7      P29320   p    23.0     0.0004     0.0803          0.001600   \n",
       "8      P45984   p    11.0     0.0367     0.2277          0.110100   \n",
       "9      Q13546   p    36.0     0.1683     0.0765          0.288514   \n",
       "10     Q8NB16   p    19.0     0.6718     0.8475          0.732873   \n",
       "11     Q92918   p    34.0     0.0000     1.0000          0.000000   \n",
       "\n",
       "    pvalue_3d_adj_bh  \n",
       "0           1.000000  \n",
       "1           1.000000  \n",
       "2           0.761486  \n",
       "3           0.003600  \n",
       "4           0.009600  \n",
       "5           0.192720  \n",
       "6           1.000000  \n",
       "7           0.192720  \n",
       "8           0.455400  \n",
       "9           0.192720  \n",
       "10          1.000000  \n",
       "11          1.000000  "
      ]
     },
     "execution_count": 30,
     "metadata": {},
     "output_type": "execute_result"
    }
   ],
   "source": [
    "proximity_res_p"
   ]
  },
  {
   "cell_type": "code",
   "execution_count": null,
   "metadata": {},
   "outputs": [],
   "source": []
  }
 ],
 "metadata": {
  "kernelspec": {
   "display_name": "Python [conda env:alphamap_fold]",
   "language": "python",
   "name": "conda-env-alphamap_fold-py"
  },
  "language_info": {
   "codemirror_mode": {
    "name": "ipython",
    "version": 3
   },
   "file_extension": ".py",
   "mimetype": "text/x-python",
   "name": "python",
   "nbconvert_exporter": "python",
   "pygments_lexer": "ipython3",
   "version": "3.8.12"
  }
 },
 "nbformat": 4,
 "nbformat_minor": 2
}
